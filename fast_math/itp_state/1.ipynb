{
 "cells": [
  {
   "cell_type": "code",
   "execution_count": 142,
   "metadata": {},
   "outputs": [],
   "source": [
    "from sympy import *\n",
    "import time\n",
    "import copy\n",
    "import numpy as np\n",
    "\n",
    "t = symbols('t')\n",
    "j_m = symbols('j_m')  # j_m 是常数\n",
    "a_m = symbols('a_m')  # a_m 是常数\n",
    "v_m1 = symbols('v_m1')  # b_m 是常数\n",
    "d = symbols('d')  # d 是常数"
   ]
  },
  {
   "cell_type": "code",
   "execution_count": 128,
   "metadata": {},
   "outputs": [
    {
     "data": {
      "text/latex": [
       "$\\displaystyle a_{0} + j_{m} t$"
      ],
      "text/plain": [
       "a_0 + j_m*t"
      ]
     },
     "execution_count": 128,
     "metadata": {},
     "output_type": "execute_result"
    }
   ],
   "source": [
    "a0 = symbols('a_0')\n",
    "a_seg1 = a0 + integrate(j_m, (t, 0, t))\n",
    "a_seg1"
   ]
  },
  {
   "cell_type": "code",
   "execution_count": 129,
   "metadata": {},
   "outputs": [
    {
     "data": {
      "text/latex": [
       "$\\displaystyle a_{0} t + \\frac{j_{m} t^{2}}{2} + v_{0}$"
      ],
      "text/plain": [
       "a_0*t + j_m*t**2/2 + v_0"
      ]
     },
     "execution_count": 129,
     "metadata": {},
     "output_type": "execute_result"
    }
   ],
   "source": [
    "v0 = symbols('v_0')\n",
    "v_seg1 = integrate(a_seg1, (t, 0, t)) + v0\n",
    "v_seg1"
   ]
  },
  {
   "cell_type": "code",
   "execution_count": 130,
   "metadata": {},
   "outputs": [
    {
     "data": {
      "text/latex": [
       "$\\displaystyle \\frac{- \\frac{a_{0}^{2}}{2} + a_{m}^{2}}{j_{m}}$"
      ],
      "text/plain": [
       "(-a_0**2/2 + a_m**2)/j_m"
      ]
     },
     "execution_count": 130,
     "metadata": {},
     "output_type": "execute_result"
    }
   ],
   "source": [
    "# [假设冲到 max]\n",
    "int_seg1 = (a_m - a0) / j_m\n",
    "int_seg2_suppose_a_m = a_m / j_m\n",
    "a_seg2 = a_m - (t - int_seg1) * j_m\n",
    "v_t2_suppose_a_m = integrate(a_seg1, (t, 0, int_seg1)) + \\\n",
    "    integrate(a_seg2, (t, int_seg1, int_seg1 + int_seg2_suppose_a_m))\n",
    "v_t2_suppose_a_m = simplify(v_t2_suppose_a_m)\n",
    "v_t2_suppose_a_m  # 假设直接冲到 a_m，最后 v 的速度"
   ]
  },
  {
   "cell_type": "code",
   "execution_count": 131,
   "metadata": {},
   "outputs": [
    {
     "data": {
      "text/latex": [
       "$\\displaystyle \\frac{\\frac{a_{0}^{2}}{2} - a_{m}^{2} + j_{m} v_{m1}}{a_{m} j_{m}}$"
      ],
      "text/plain": [
       "(a_0**2/2 - a_m**2 + j_m*v_m1)/(a_m*j_m)"
      ]
     },
     "execution_count": 131,
     "metadata": {},
     "output_type": "execute_result"
    }
   ],
   "source": [
    "# v_t2_suppose_a_m <= v_m_1\n",
    "# 那么需要冲到 v_m_1 然后保持 a_m，最后减速到 0\n",
    "# int_seg1 = int_seg1\n",
    "int_seg3 = int_seg2_suppose_a_m\n",
    "int_seg2 = simplify((v_m1 - v_t2_suppose_a_m) / a_m)\n",
    "int_seg2"
   ]
  },
  {
   "cell_type": "code",
   "execution_count": 132,
   "metadata": {},
   "outputs": [
    {
     "data": {
      "text/latex": [
       "$\\displaystyle a_{m}$"
      ],
      "text/plain": [
       "a_m"
      ]
     },
     "execution_count": 132,
     "metadata": {},
     "output_type": "execute_result"
    }
   ],
   "source": [
    "a_seg1 = a_seg1\n",
    "a_seg2 = a_m\n",
    "a_seg3 = a_m - (t - int_seg1 - int_seg2) * j_m\n",
    "v_seg1 = v0 + integrate(a_seg1, (t, 0, t))\n",
    "v_seg2 = simplify(v_seg1.subs(t, int_seg1) + integrate(a_seg2,\n",
    "                                                       (t, int_seg1, t)))\n",
    "v_seg3 = simplify(v_seg2.subs(t, int_seg1 + int_seg2) +\n",
    "                  integrate(a_seg3, (t, int_seg1 + int_seg2, t)))\n",
    "v_seg1, v_seg2, v_seg3 = simplify(\n",
    "    v_seg1), simplify(v_seg2), simplify(v_seg3)\n",
    "simplify(int_seg3 * j_m)"
   ]
  },
  {
   "cell_type": "code",
   "execution_count": 133,
   "metadata": {},
   "outputs": [
    {
     "data": {
      "text/latex": [
       "$\\displaystyle - \\frac{a_{0}^{4}}{8 a_{m} j_{m}^{2}} + \\frac{a_{0}^{3}}{3 j_{m}^{2}} - \\frac{a_{0}^{2} a_{m}}{4 j_{m}^{2}} + \\frac{a_{0}^{2} v_{0}}{2 a_{m} j_{m}} - \\frac{a_{0} v_{0}}{j_{m}} + \\frac{a_{m} v_{0}}{j_{m}} + \\frac{a_{m} v_{m1}}{2 j_{m}} + \\frac{v_{0} v_{m1}}{a_{m}} + \\frac{v_{m1}^{2}}{2 a_{m}}$"
      ],
      "text/plain": [
       "-a_0**4/(8*a_m*j_m**2) + a_0**3/(3*j_m**2) - a_0**2*a_m/(4*j_m**2) + a_0**2*v_0/(2*a_m*j_m) - a_0*v_0/j_m + a_m*v_0/j_m + a_m*v_m1/(2*j_m) + v_0*v_m1/a_m + v_m1**2/(2*a_m)"
      ]
     },
     "execution_count": 133,
     "metadata": {},
     "output_type": "execute_result"
    }
   ],
   "source": [
    "d_seg1 = integrate(v_seg1, (t, 0, t))\n",
    "d_seg2 = simplify(d_seg1.subs(t, int_seg1) +\n",
    "                  integrate(v_seg2, (t, int_seg1, t)))\n",
    "d_seg3 = simplify(d_seg2.subs(t, int_seg1 + int_seg2) +\n",
    "                  integrate(v_seg3, (t, int_seg1 + int_seg2, t)))\n",
    "d_seg1, d_seg2, d_seg3 = simplify(d_seg1), simplify(d_seg2), simplify(d_seg3)\n",
    "simplify(d_seg3.subs(t, int_seg1 + int_seg2 + int_seg3))\n",
    "# 这只是第一种情况，注意嗷\n",
    "# simplify(d_seg3.subs(t, int_seg1 + int_seg2 + int_seg3).subs(a0, 0).subs(v0, 0))"
   ]
  },
  {
   "cell_type": "code",
   "execution_count": 134,
   "metadata": {},
   "outputs": [
    {
     "data": {
      "text/latex": [
       "$\\displaystyle \\frac{v_{m1} \\left(\\frac{a_{m}}{j_{m}} + \\frac{v_{m1}}{a_{m}}\\right)}{2}$"
      ],
      "text/plain": [
       "v_m1*(a_m/j_m + v_m1/a_m)/2"
      ]
     },
     "execution_count": 134,
     "metadata": {},
     "output_type": "execute_result"
    }
   ],
   "source": [
    "d_last = v_m1 / 2 * (v_m1 / a_m + a_m / j_m)\n",
    "d_last"
   ]
  },
  {
   "cell_type": "code",
   "execution_count": 135,
   "metadata": {},
   "outputs": [
    {
     "data": {
      "text/latex": [
       "$\\displaystyle \\frac{a_{0}^{4}}{8 a_{m} j_{m}^{2}} - \\frac{a_{0}^{3}}{3 j_{m}^{2}} + \\frac{a_{0}^{2} a_{m}}{4 j_{m}^{2}} - \\frac{a_{0}^{2} v_{0}}{2 a_{m} j_{m}} + \\frac{a_{0} v_{0}}{j_{m}} - \\frac{a_{m} v_{0}}{j_{m}} - \\frac{a_{m} v_{m1}}{j_{m}} + d - \\frac{v_{0} v_{m1}}{a_{m}} - \\frac{v_{m1}^{2}}{a_{m}}$"
      ],
      "text/plain": [
       "a_0**4/(8*a_m*j_m**2) - a_0**3/(3*j_m**2) + a_0**2*a_m/(4*j_m**2) - a_0**2*v_0/(2*a_m*j_m) + a_0*v_0/j_m - a_m*v_0/j_m - a_m*v_m1/j_m + d - v_0*v_m1/a_m - v_m1**2/a_m"
      ]
     },
     "execution_count": 135,
     "metadata": {},
     "output_type": "execute_result"
    }
   ],
   "source": [
    "d_mid = simplify(d - d_last - d_seg3.subs(t, int_seg1 + int_seg2 + int_seg3))\n",
    "d_mid"
   ]
  },
  {
   "cell_type": "code",
   "execution_count": 136,
   "metadata": {},
   "outputs": [
    {
     "data": {
      "text/latex": [
       "$\\displaystyle \\frac{- a_{m}^{2} - \\sqrt{a_{m} \\left(a_{m}^{3} + 4 d j_{m}^{2}\\right)}}{2 j_{m}}$"
      ],
      "text/plain": [
       "(-a_m**2 - sqrt(a_m*(a_m**3 + 4*d*j_m**2)))/(2*j_m)"
      ]
     },
     "execution_count": 136,
     "metadata": {},
     "output_type": "execute_result"
    }
   ],
   "source": [
    "equation = Eq(d_mid, 0)\n",
    "solutions = solve(equation, v_m1)\n",
    "simplify(solutions[0].subs(a0, 0).subs(v0, 0))"
   ]
  },
  {
   "cell_type": "code",
   "execution_count": 137,
   "metadata": {},
   "outputs": [
    {
     "data": {
      "text/latex": [
       "$\\displaystyle \\frac{- \\frac{a_{m}^{2}}{2} - \\frac{j_{m} v_{0}}{2} + \\frac{\\sqrt{18 a_{0}^{4} - 48 a_{0}^{3} a_{m} + 36 a_{0}^{2} a_{m}^{2} - 72 a_{0}^{2} j_{m} v_{0} + 144 a_{0} a_{m} j_{m} v_{0} + 36 a_{m}^{4} - 72 a_{m}^{2} j_{m} v_{0} + 144 a_{m} d j_{m}^{2} + 36 j_{m}^{2} v_{0}^{2}}}{12}}{j_{m}}$"
      ],
      "text/plain": [
       "(-a_m**2/2 - j_m*v_0/2 + sqrt(18*a_0**4 - 48*a_0**3*a_m + 36*a_0**2*a_m**2 - 72*a_0**2*j_m*v_0 + 144*a_0*a_m*j_m*v_0 + 36*a_m**4 - 72*a_m**2*j_m*v_0 + 144*a_m*d*j_m**2 + 36*j_m**2*v_0**2)/12)/j_m"
      ]
     },
     "execution_count": 137,
     "metadata": {},
     "output_type": "execute_result"
    }
   ],
   "source": [
    "solutions[1]"
   ]
  },
  {
   "cell_type": "code",
   "execution_count": 148,
   "metadata": {},
   "outputs": [],
   "source": [
    "vs = {\n",
    "    'd': 0.02,\n",
    "    'j_m': 200,\n",
    "    'a_m': 40,\n",
    "    'v_m1': 1,\n",
    "    'v0': -0,\n",
    "    'a0': -0,\n",
    "}\n",
    "\n",
    "\n",
    "def subs(expr):\n",
    "    for k, v in vs.items():\n",
    "        expr = expr.subs(eval(k), v)\n",
    "    return expr\n",
    "\n",
    "\n",
    "def real(x):\n",
    "    return float(subs(x).evalf())"
   ]
  },
  {
   "cell_type": "code",
   "execution_count": 149,
   "metadata": {},
   "outputs": [],
   "source": [
    "t1 = sqrt((v_m1 / j_m))\n",
    "t2 = 2 * t1\n",
    "d1 = 1 / 6 * j_m * t1 ** 3\n",
    "d2 = v_m1 * t1\n",
    "a_in_t1 = j_m * t\n",
    "a_in_t2 = a_in_t1.subs(t, t1) - j_m * (t - t1)\n",
    "v_in_t1 = integrate(a_in_t1, (t, 0, t))\n",
    "v_in_t2 = v_in_t1.subs(t, t1) + integrate(a_in_t2, (t, t1, t))\n",
    "d_in_t1 = integrate(v_in_t1, (t, 0, t))\n",
    "d_in_t2 = d_in_t1.subs(t, t1) + integrate(v_in_t2, (t, t1, t))"
   ]
  },
  {
   "cell_type": "code",
   "execution_count": 151,
   "metadata": {},
   "outputs": [
    {
     "name": "stdout",
     "output_type": "stream",
     "text": [
      "coe_expr: [j_m*(v_m1/j_m)**(3/2)/3, -v_m1, j_m*sqrt(v_m1/j_m), -j_m/6]\n",
      "0.07071067811865475 0.07071067811865475\n",
      "v: -j_m*t**2/2 + 2*j_m*t*sqrt(v_m1/j_m) - 2*j_m*v_m1/j_m + v_m1\n",
      "a:  j_m*sqrt(v_m1/j_m) - j_m*(t - sqrt(v_m1/j_m))\n"
     ]
    }
   ],
   "source": [
    "coe_expr = list(reversed(Poly(d_in_t2, t).all_coeffs()))\n",
    "print(f'coe_expr: {coe_expr}')\n",
    "# 以下为验证\n",
    "coe = [real(c) for c in coe_expr]\n",
    "d_tar = real(d_in_t2.subs(t, t1))\n",
    "time_start = time.time()\n",
    "coe[0] -= d_tar\n",
    "coe = np.polynomial.Polynomial(coe)\n",
    "polyder = coe.deriv()\n",
    "root = opt.newton(lambda x: coe(x), x0=real(t1),\n",
    "                  fprime=lambda x: polyder(x), tol=1e-5)\n",
    "print(root, real(t1))\n",
    "print('v:',  v_in_t2)\n",
    "print('a: ', a_in_t2)"
   ]
  },
  {
   "cell_type": "code",
   "execution_count": 14,
   "metadata": {},
   "outputs": [
    {
     "name": "stdout",
     "output_type": "stream",
     "text": [
      "j_m*(v_m1/j_m)**(3/2)/6\n",
      "v_m1*sqrt(v_m1/j_m)\n"
     ]
    }
   ],
   "source": [
    "print(d_in_t1.subs(t, t1))\n",
    "print(simplify(d_in_t2.subs(t, t2)))"
   ]
  },
  {
   "cell_type": "code",
   "execution_count": 15,
   "metadata": {},
   "outputs": [
    {
     "name": "stdout",
     "output_type": "stream",
     "text": [
      "6**(1/3)*(d/j_m)**(1/3) j_m*t**2/2\n"
     ]
    },
    {
     "data": {
      "text/latex": [
       "$\\displaystyle d$"
      ],
      "text/plain": [
       "d"
      ]
     },
     "execution_count": 15,
     "metadata": {},
     "output_type": "execute_result"
    }
   ],
   "source": [
    "# 根据当前 d 反推 t，得 v, a\n",
    "eq = Eq(d_in_t1, d)\n",
    "t1_sol = solve(eq, t)\n",
    "print(t1_sol[0], v_in_t1)  # [p2]\n",
    "d_in_t1.subs(t, t1_sol[0])"
   ]
  },
  {
   "cell_type": "code",
   "execution_count": 91,
   "metadata": {},
   "outputs": [
    {
     "data": {
      "text/plain": [
       "(j_m*t**2/2, j_m*t)"
      ]
     },
     "execution_count": 91,
     "metadata": {},
     "output_type": "execute_result"
    }
   ],
   "source": [
    "v_in_t1, a_in_t1"
   ]
  },
  {
   "cell_type": "code",
   "execution_count": 17,
   "metadata": {},
   "outputs": [
    {
     "data": {
      "text/plain": [
       "[-j_m/6, j_m*sqrt(v_m1/j_m), -v_m1, j_m*(v_m1/j_m)**(3/2)/3]"
      ]
     },
     "execution_count": 17,
     "metadata": {},
     "output_type": "execute_result"
    }
   ],
   "source": [
    "eq = Eq(d_in_t2, d)\n",
    "t2_sol = solve(eq, t)\n",
    "subs(t1).evalf()\n",
    "d_in_t2\n",
    "Poly(d_in_t2, t).all_coeffs()"
   ]
  },
  {
   "cell_type": "code",
   "execution_count": 18,
   "metadata": {},
   "outputs": [
    {
     "data": {
      "text/latex": [
       "$\\displaystyle 0.0845932620387251 - 4.3 \\cdot 10^{-19} i$"
      ],
      "text/plain": [
       "0.0845932620387251 - 4.3e-19*I"
      ]
     },
     "execution_count": 18,
     "metadata": {},
     "output_type": "execute_result"
    }
   ],
   "source": [
    "subs(t2_sol[0]).evalf()"
   ]
  },
  {
   "cell_type": "code",
   "execution_count": 19,
   "metadata": {},
   "outputs": [
    {
     "data": {
      "text/latex": [
       "$\\displaystyle 0.0707106781186548$"
      ],
      "text/plain": [
       "0.0707106781186548"
      ]
     },
     "execution_count": 19,
     "metadata": {},
     "output_type": "execute_result"
    }
   ],
   "source": [
    "subs(d2).evalf()"
   ]
  },
  {
   "cell_type": "code",
   "execution_count": 20,
   "metadata": {},
   "outputs": [
    {
     "name": "stdout",
     "output_type": "stream",
     "text": [
      "Solution: [2.]\n"
     ]
    }
   ],
   "source": [
    "import numpy as np\n",
    "from scipy.optimize import fsolve\n",
    "\n",
    "# 定义方程\n",
    "\n",
    "\n",
    "def equation(x):\n",
    "    return x**2 - 4\n",
    "\n",
    "\n",
    "# 初始猜测值\n",
    "x0 = 1\n",
    "\n",
    "# 使用 fsolve 求解\n",
    "solution = fsolve(equation, x0)\n",
    "print(\"Solution:\", solution)"
   ]
  },
  {
   "cell_type": "code",
   "execution_count": 21,
   "metadata": {},
   "outputs": [
    {
     "name": "stdout",
     "output_type": "stream",
     "text": [
      "time: 0.002777099609375\n"
     ]
    },
    {
     "data": {
      "text/plain": [
       "array([-19.31851653,   5.1763809 ])"
      ]
     },
     "execution_count": 21,
     "metadata": {},
     "output_type": "execute_result"
    }
   ],
   "source": [
    "from scipy.optimize import root\n",
    "\n",
    "coe = Poly(d_in_t2, t).all_coeffs()\n",
    "coe.reverse()\n",
    "\n",
    "coe = np.array([float(subs(c).evalf()) for c in coe])\n",
    "d_tar = float(subs(d2).evalf())\n",
    "coe[0] -= d_tar\n",
    "coe = np.poly1d(coe)\n",
    "polyder = np.polyder(coe)\n",
    "\n",
    "\n",
    "t_start = time.time()\n",
    "pts = np.roots(polyder)\n",
    "print('time:', time.time() - t_start)\n",
    "pts"
   ]
  },
  {
   "cell_type": "code",
   "execution_count": null,
   "metadata": {},
   "outputs": [
    {
     "data": {
      "text/plain": [
       "0.07071067811865475"
      ]
     },
     "execution_count": 96,
     "metadata": {},
     "output_type": "execute_result"
    }
   ],
   "source": [
    "# [new]\n",
    "int1 = a_m / j_m\n",
    "int2 = v_m1 / a_m - a_m / j_m\n",
    "int3 = a_m / j_m\n",
    "d_in_t1.subs(t, int1)\n",
    "a_in_t2 = a_m\n",
    "v_in_t2 = v_in_t1.subs(t, int1) + integrate(a_in_t2, (t, int1, t))\n",
    "a_in_t3 = a_m - j_m * (t - int2 - int1)\n",
    "v_in_t3 = v_in_t2.subs(t, int1 + int2) + \\\n",
    "    integrate(a_in_t3, (t, int1 + int2, t))\n",
    "d_in_t1 = integrate(v_in_t1, (t, 0, t))\n",
    "d_in_t2 = d_in_t1.subs(t, int1) + integrate(v_in_t2, (t, int1, t))\n",
    "d_in_t3 = d_in_t2.subs(t, int1 + int2) + \\\n",
    "    integrate(v_in_t3, (t, int1 + int2, t))\n",
    "# d_in_t1, d_in_t2, d_in_t3\n",
    "simplify(d_in_t2.subs(t, int1 + int2))"
   ]
  },
  {
   "cell_type": "code",
   "execution_count": 23,
   "metadata": {},
   "outputs": [
    {
     "data": {
      "text/latex": [
       "$\\displaystyle \\frac{3}{20} - \\frac{\\sqrt[3]{i}}{10} + \\frac{i^{\\frac{5}{3}}}{10}$"
      ],
      "text/plain": [
       "3/20 - I**(1/3)/10 + I**(5/3)/10"
      ]
     },
     "execution_count": 23,
     "metadata": {},
     "output_type": "execute_result"
    }
   ],
   "source": [
    "# [解 t2 in int2]\n",
    "eq = Eq(d_in_t3, d)\n",
    "t_sol = solve(eq, t)\n",
    "simplify(subs(t_sol[0].subs(d, d_in_t3.subs(t, int1 + int2 + int3))))\n",
    "# print(t_sol[1])\n",
    "# print(v_in_t2)\n",
    "# print(a_in_t2)"
   ]
  },
  {
   "cell_type": "code",
   "execution_count": 24,
   "metadata": {},
   "outputs": [
    {
     "data": {
      "text/plain": [
       "(0.00416666666666667, 0.0291666666666667, 0.0750000000000000)"
      ]
     },
     "execution_count": 24,
     "metadata": {},
     "output_type": "execute_result"
    }
   ],
   "source": [
    "v_in_t1.subs(t, int1), v_in_t2.subs(\n",
    "    t, int1 + int2), a_in_t2.subs(t, int1 + int2)  # [p1]\n",
    "subs(d_in_t1.subs(t, int1)).evalf(), subs(d_in_t2.subs(t, int1 + int2)\n",
    "                                          ).evalf(), subs(d_in_t3.subs(t, int1 + int2 + int3)).evalf()"
   ]
  },
  {
   "cell_type": "code",
   "execution_count": 25,
   "metadata": {},
   "outputs": [
    {
     "name": "stdout",
     "output_type": "stream",
     "text": [
      "a_m**3/(6*j_m**2)\n"
     ]
    }
   ],
   "source": [
    "print(d_in_t1.subs(t, int1))"
   ]
  },
  {
   "cell_type": "code",
   "execution_count": 86,
   "metadata": {},
   "outputs": [
    {
     "data": {
      "text/plain": [
       "0.029166666666666667"
      ]
     },
     "execution_count": 86,
     "metadata": {},
     "output_type": "execute_result"
    }
   ],
   "source": [
    "real(d_in_t2.subs(t, int1 + int2))"
   ]
  },
  {
   "cell_type": "code",
   "execution_count": 27,
   "metadata": {},
   "outputs": [
    {
     "data": {
      "text/latex": [
       "$\\displaystyle \\frac{v_{m1} \\left(a_{m}^{2} + j_{m} v_{m1}\\right)}{2 a_{m} j_{m}}$"
      ],
      "text/plain": [
       "v_m1*(a_m**2 + j_m*v_m1)/(2*a_m*j_m)"
      ]
     },
     "execution_count": 27,
     "metadata": {},
     "output_type": "execute_result"
    }
   ],
   "source": [
    "simplify(d_in_t3.subs(t, int1 + int2 + int3))"
   ]
  },
  {
   "cell_type": "code",
   "execution_count": 155,
   "metadata": {},
   "outputs": [
    {
     "name": "stdout",
     "output_type": "stream",
     "text": [
      "coe_expr: [j_m*(v_m1/j_m)**(3/2)/3, -v_m1, j_m*sqrt(v_m1/j_m), -j_m/6]\n",
      "0.024999999999909428 0.025\n",
      "v: -j_m*t**2/2 + 2*j_m*t*sqrt(v_m1/j_m) - 2*j_m*v_m1/j_m + v_m1\n",
      "a:  j_m*sqrt(v_m1/j_m) - j_m*(t - sqrt(v_m1/j_m))\n",
      "a_m/j_m + v_m1/a_m\n"
     ]
    }
   ],
   "source": [
    "coe_expr = list(reversed(Poly(d_in_t2, t).all_coeffs()))\n",
    "print(f'coe_expr: {coe_expr}')\n",
    "# 以下为验证\n",
    "coe = [real(c) for c in coe_expr]\n",
    "d_tar = real(d_in_t2.subs(t, int1 + int2))\n",
    "time_start = time.time()\n",
    "coe[0] -= d_tar\n",
    "coe = np.polynomial.Polynomial(coe)\n",
    "polyder = coe.deriv()\n",
    "root = opt.newton(lambda x: coe(x), x0=real(int1),\n",
    "                  fprime=lambda x: polyder(x), tol=1e-5)\n",
    "print(root, real(int1 + int2))\n",
    "print('v:',  v_in_t2)\n",
    "print('a: ', a_in_t2)\n",
    "print(int1 + int2 + int3)"
   ]
  },
  {
   "cell_type": "code",
   "execution_count": 122,
   "metadata": {},
   "outputs": [
    {
     "name": "stdout",
     "output_type": "stream",
     "text": [
      "coe_expr: [(a_m**6 + j_m**3*v_m1**3)/(6*a_m**3*j_m**2), (-a_m**4 - j_m**2*v_m1**2)/(2*a_m**2*j_m), (a_m**2 + j_m*v_m1)/(2*a_m), -j_m/6]\n",
      "-0.0375 - 1.25·x + 15.0·x² - 33.33333333·x³\n",
      "0.15000000000000002 0.15\n",
      "v: -a_m**2/(2*j_m) + a_m*t - j_m*t**2/2 + j_m*t*v_m1/a_m - j_m*v_m1**2/(2*a_m**2)\n",
      "a: a_m - j_m*(t - v_m1/a_m)\n"
     ]
    },
    {
     "data": {
      "text/latex": [
       "$\\displaystyle - \\frac{a_{m}^{2}}{2 j_{m}} + a_{m} t - \\frac{j_{m} t^{2}}{2} + \\frac{j_{m} t v_{m1}}{a_{m}} - \\frac{j_{m} v_{m1}^{2}}{2 a_{m}^{2}}$"
      ],
      "text/plain": [
       "-a_m**2/(2*j_m) + a_m*t - j_m*t**2/2 + j_m*t*v_m1/a_m - j_m*v_m1**2/(2*a_m**2)"
      ]
     },
     "execution_count": 122,
     "metadata": {},
     "output_type": "execute_result"
    }
   ],
   "source": [
    "coe_expr = list(reversed(Poly(d_in_t3, t).all_coeffs()))\n",
    "print(f'coe_expr: {coe_expr}')\n",
    "# 以下为验证\n",
    "coe = [real(c) for c in coe_expr]\n",
    "d3_tar = real(d_in_t3.subs(t, int1 + int2 + int3))\n",
    "coe[0] -= d3_tar\n",
    "coe = np.polynomial.Polynomial(coe)\n",
    "der = coe.deriv()\n",
    "root = opt.newton(lambda x: coe(x), x0=real(int1 + int2),\n",
    "                  fprime=lambda x: der(x), tol=1e-5)\n",
    "print(coe)\n",
    "print(root, real(int1 + int2 + int3))\n",
    "print('v:', simplify(v_in_t3))\n",
    "print('a:', a_in_t3)\n",
    "simplify(v_in_t3)"
   ]
  }
 ],
 "metadata": {
  "kernelspec": {
   "display_name": "Python 3",
   "language": "python",
   "name": "python3"
  },
  "language_info": {
   "codemirror_mode": {
    "name": "ipython",
    "version": 3
   },
   "file_extension": ".py",
   "mimetype": "text/x-python",
   "name": "python",
   "nbconvert_exporter": "python",
   "pygments_lexer": "ipython3",
   "version": "3.9.6"
  }
 },
 "nbformat": 4,
 "nbformat_minor": 2
}
